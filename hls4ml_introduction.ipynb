{
 "cells": [
  {
   "cell_type": "markdown",
   "id": "afda9d34-7492-403f-bff6-5fd0376ef2cc",
   "metadata": {},
   "source": [
    "# hls4ml and oneAPI\n",
    "\n",
    "This tutorial is based on the hls4ml tutorial notebooks (https://github.com/fastmachinelearning/hls4ml-tutorial/).\n"
   ]
  },
  {
   "cell_type": "markdown",
   "id": "87730f69-a704-44b8-a2be-61f6b4b24dae",
   "metadata": {},
   "source": [
    "## Load the hls4ml jet tagging dataset"
   ]
  },
  {
   "cell_type": "code",
   "execution_count": 1,
   "id": "9126a00e-d49d-4cd5-b8c5-6218477332dd",
   "metadata": {},
   "outputs": [
    {
     "name": "stderr",
     "output_type": "stream",
     "text": [
      "2025-04-17 14:27:15.452891: I tensorflow/tsl/cuda/cudart_stub.cc:28] Could not find cuda drivers on your machine, GPU will not be used.\n",
      "2025-04-17 14:27:15.490803: E tensorflow/compiler/xla/stream_executor/cuda/cuda_dnn.cc:9342] Unable to register cuDNN factory: Attempting to register factory for plugin cuDNN when one has already been registered\n",
      "2025-04-17 14:27:15.490848: E tensorflow/compiler/xla/stream_executor/cuda/cuda_fft.cc:609] Unable to register cuFFT factory: Attempting to register factory for plugin cuFFT when one has already been registered\n",
      "2025-04-17 14:27:15.490871: E tensorflow/compiler/xla/stream_executor/cuda/cuda_blas.cc:1518] Unable to register cuBLAS factory: Attempting to register factory for plugin cuBLAS when one has already been registered\n",
      "2025-04-17 14:27:15.497821: I tensorflow/tsl/cuda/cudart_stub.cc:28] Could not find cuda drivers on your machine, GPU will not be used.\n",
      "2025-04-17 14:27:15.498372: I tensorflow/core/platform/cpu_feature_guard.cc:182] This TensorFlow binary is optimized to use available CPU instructions in performance-critical operations.\n",
      "To enable the following instructions: AVX2 FMA, in other operations, rebuild TensorFlow with the appropriate compiler flags.\n",
      "2025-04-17 14:27:16.652905: W tensorflow/compiler/tf2tensorrt/utils/py_utils.cc:38] TF-TRT Warning: Could not find TensorRT\n"
     ]
    }
   ],
   "source": [
    "from tensorflow.keras.utils import to_categorical\n",
    "from sklearn.datasets import fetch_openml\n",
    "from sklearn.model_selection import train_test_split\n",
    "from sklearn.preprocessing import LabelEncoder, StandardScaler\n",
    "import numpy as np\n",
    "import os\n",
    "from matplotlib import pyplot as plt\n",
    "\n",
    "%matplotlib inline\n",
    "seed = 0\n",
    "np.random.seed(seed)\n",
    "import tensorflow as tf\n",
    "\n",
    "tf.random.set_seed(seed)\n",
    "import os\n",
    "import ndjson"
   ]
  },
  {
   "cell_type": "code",
   "execution_count": 4,
   "id": "be13b282-cce5-48da-8d83-9176e48b4881",
   "metadata": {},
   "outputs": [
    {
     "name": "stdout",
     "output_type": "stream",
     "text": [
      "[[1. 0. 0. 0. 0.]\n",
      " [0. 0. 0. 1. 0.]\n",
      " [0. 0. 1. 0. 0.]\n",
      " [0. 0. 0. 0. 1.]\n",
      " [0. 0. 0. 1. 0.]]\n"
     ]
    }
   ],
   "source": [
    "data = fetch_openml('hls4ml_lhc_jets_hlf', as_frame=False, parser='liac-arff')\n",
    "X, y = data['data'], data['target']\n",
    "\n",
    "le = LabelEncoder()\n",
    "y = le.fit_transform(y)\n",
    "y = to_categorical(y, 5)\n",
    "X_train_val, X_test, y_train_val, y_test = train_test_split(X, y, test_size=0.2, random_state=42)\n",
    "print(y[:5])\n",
    "\n",
    "scaler = StandardScaler()\n",
    "X_train_val = scaler.fit_transform(X_train_val)\n",
    "X_test = scaler.transform(X_test)\n",
    "\n",
    "np.save('X_train_val.npy', X_train_val)\n",
    "np.save('X_test.npy', X_test)\n",
    "np.save('y_train_val.npy', y_train_val)\n",
    "np.save('y_test.npy', y_test)\n",
    "np.save('classes.npy', le.classes_)"
   ]
  },
  {
   "cell_type": "markdown",
   "id": "fb6da688-c6fd-4da9-a85e-61df121a8cc9",
   "metadata": {},
   "source": [
    "## Create a small model for jet tagging\n"
   ]
  },
  {
   "cell_type": "code",
   "execution_count": 7,
   "id": "77687719-c67a-41bb-be9d-78c56f3da861",
   "metadata": {},
   "outputs": [],
   "source": [
    "from tensorflow.keras.models import Sequential\n",
    "from tensorflow.keras.layers import Dense, Activation, BatchNormalization\n",
    "from tensorflow.keras.optimizers import Adam\n",
    "from tensorflow.keras.regularizers import l1\n"
   ]
  },
  {
   "cell_type": "code",
   "execution_count": null,
   "id": "693cfecb-f01c-4eca-a584-f1dbf40784cf",
   "metadata": {},
   "outputs": [],
   "source": []
  },
  {
   "cell_type": "code",
   "execution_count": 104,
   "id": "0e5c2333-f7ce-42b8-971d-d7425fa76677",
   "metadata": {},
   "outputs": [
    {
     "name": "stdout",
     "output_type": "stream",
     "text": [
      "Model: \"sequential_6\"\n",
      "_________________________________________________________________\n",
      " Layer (type)                Output Shape              Param #   \n",
      "=================================================================\n",
      " fc1 (Dense)                 (None, 32)                544       \n",
      "                                                                 \n",
      " relu1 (Activation)          (None, 32)                0         \n",
      "                                                                 \n",
      " fc2 (Dense)                 (None, 32)                1056      \n",
      "                                                                 \n",
      " relu2 (Activation)          (None, 32)                0         \n",
      "                                                                 \n",
      " fc3 (Dense)                 (None, 32)                1056      \n",
      "                                                                 \n",
      " relu3 (Activation)          (None, 32)                0         \n",
      "                                                                 \n",
      " output (Dense)              (None, 5)                 165       \n",
      "                                                                 \n",
      " softmax (Activation)        (None, 5)                 0         \n",
      "                                                                 \n",
      "=================================================================\n",
      "Total params: 2821 (11.02 KB)\n",
      "Trainable params: 2821 (11.02 KB)\n",
      "Non-trainable params: 0 (0.00 Byte)\n",
      "_________________________________________________________________\n"
     ]
    }
   ],
   "source": [
    "model = Sequential()\n",
    "model.add(Dense(32, input_shape=(16,), name='fc1', kernel_initializer='lecun_uniform', kernel_regularizer=l1(0.0001)))\n",
    "model.add(Activation(activation='relu', name='relu1'))\n",
    "model.add(Dense(32, name='fc2', kernel_initializer='lecun_uniform', kernel_regularizer=l1(0.0001)))\n",
    "model.add(Activation(activation='relu', name='relu2'))\n",
    "model.add(Dense(32, name='fc3', kernel_initializer='lecun_uniform', kernel_regularizer=l1(0.0001)))\n",
    "model.add(Activation(activation='relu', name='relu3'))\n",
    "model.add(Dense(5, name='output', kernel_initializer='lecun_uniform', kernel_regularizer=l1(0.0001)))\n",
    "model.add(Activation(activation='softmax', name='softmax'))\n",
    "\n",
    "model.summary()"
   ]
  },
  {
   "cell_type": "code",
   "execution_count": 105,
   "id": "47e05f23-585c-4a07-8ce3-a69615eeed70",
   "metadata": {},
   "outputs": [
    {
     "name": "stdout",
     "output_type": "stream",
     "text": [
      "Epoch 1/10\n",
      "3891/3891 [==============================] - 8s 2ms/step - loss: 1.1002 - accuracy: 0.6138 - val_loss: 0.9022 - val_accuracy: 0.7147\n",
      "Epoch 2/10\n",
      "3891/3891 [==============================] - 10s 3ms/step - loss: 0.8604 - accuracy: 0.7222 - val_loss: 0.8420 - val_accuracy: 0.7265\n",
      "Epoch 3/10\n",
      "3891/3891 [==============================] - 9s 2ms/step - loss: 0.8266 - accuracy: 0.7293 - val_loss: 0.8212 - val_accuracy: 0.7304\n",
      "Epoch 4/10\n",
      "3891/3891 [==============================] - 10s 3ms/step - loss: 0.8092 - accuracy: 0.7330 - val_loss: 0.8064 - val_accuracy: 0.7336\n",
      "Epoch 5/10\n",
      "3891/3891 [==============================] - 9s 2ms/step - loss: 0.7965 - accuracy: 0.7359 - val_loss: 0.7958 - val_accuracy: 0.7370\n",
      "Epoch 6/10\n",
      "3891/3891 [==============================] - 9s 2ms/step - loss: 0.7869 - accuracy: 0.7385 - val_loss: 0.7866 - val_accuracy: 0.7391\n",
      "Epoch 7/10\n",
      "3891/3891 [==============================] - 8s 2ms/step - loss: 0.7791 - accuracy: 0.7406 - val_loss: 0.7798 - val_accuracy: 0.7408\n",
      "Epoch 8/10\n",
      "3891/3891 [==============================] - 10s 3ms/step - loss: 0.7725 - accuracy: 0.7425 - val_loss: 0.7741 - val_accuracy: 0.7426\n",
      "Epoch 9/10\n",
      "3891/3891 [==============================] - 9s 2ms/step - loss: 0.7667 - accuracy: 0.7443 - val_loss: 0.7688 - val_accuracy: 0.7444\n",
      "Epoch 10/10\n",
      "3891/3891 [==============================] - 8s 2ms/step - loss: 0.7613 - accuracy: 0.7456 - val_loss: 0.7645 - val_accuracy: 0.7458\n"
     ]
    },
    {
     "data": {
      "text/plain": [
       "<keras.src.callbacks.History at 0x75d2e8acec50>"
      ]
     },
     "execution_count": 105,
     "metadata": {},
     "output_type": "execute_result"
    }
   ],
   "source": [
    "\n",
    "adam = Adam(learning_rate=0.0001)\n",
    "model.compile(optimizer=adam, loss=['categorical_crossentropy'], metrics=['accuracy'])\n",
    "\n",
    "model.fit(\n",
    "    X_train_val,\n",
    "    y_train_val,\n",
    "    batch_size=128,\n",
    "    epochs=10,\n",
    "    validation_split=0.25,\n",
    "    shuffle=True,\n",
    ")\n"
   ]
  },
  {
   "cell_type": "code",
   "execution_count": 68,
   "id": "68558a87-befd-4cad-90a1-37ee6dd1bb4a",
   "metadata": {},
   "outputs": [
    {
     "name": "stdout",
     "output_type": "stream",
     "text": [
      "5188/5188 [==============================] - 9s 2ms/step\n",
      "Achieved test accuracy of 74.93\n"
     ]
    }
   ],
   "source": [
    "y_keras = model.predict(X_test)\n",
    "keras_accuracy = np.sum(np.argmax(y_test, axis=1) == np.argmax(y_keras, axis=1))/y_test.shape[0]\n",
    "\n",
    "print(f\"Achieved test accuracy of {(100 * keras_accuracy):.2f}%\")"
   ]
  },
  {
   "cell_type": "code",
   "execution_count": null,
   "id": "446ee69d-15df-4fbd-a943-485bb2a05258",
   "metadata": {},
   "outputs": [],
   "source": []
  },
  {
   "cell_type": "markdown",
   "id": "a9fb89aa-7a7c-4717-8537-2cfdf97a860f",
   "metadata": {},
   "source": [
    "# Convert the model\n",
    "\n",
    "Creates a directory with oneAPI code for your model and its weights\n",
    "\n",
    "## Datatypes in HLS\n",
    "\n",
    "Fixed point representation is used instead of floating point\n",
    "\n",
    "For example the hls4ml default `fixed<16,6>` corresponds to:\n",
    "\n",
    "```\n",
    "+-------------------------+---------------------------+\n",
    "|  Integer part (6 bits)  | Fractional part (10 bits) |\n",
    "+-------------------------+---------------------------+\n",
    "| 101010                  |                1010101010 |\n",
    "+-------------------------+---------------------------+\n",
    "|           Full bitwidth (16 bits)                   |\n",
    "+-------------------------+---------------------------+\n",
    "```\n",
    "\n",
    "Read more:\n",
    "\n",
    "https://github.com/hlslibs/ac_types/blob/v3.7/pdfdocs/ac_datatypes_ref.pdf\n"
   ]
  },
  {
   "cell_type": "code",
   "execution_count": 71,
   "id": "54cb6557-1736-4761-83ab-d58eb81fac04",
   "metadata": {},
   "outputs": [
    {
     "name": "stdout",
     "output_type": "stream",
     "text": [
      "Interpreting Sequential\n",
      "Topology:\n",
      "Layer name: fc1_input, layer type: InputLayer, input shapes: [[None, 16]], output shape: [None, 16]\n",
      "Layer name: fc1, layer type: Dense, input shapes: [[None, 16]], output shape: [None, 32]\n",
      "Layer name: relu1, layer type: Activation, input shapes: [[None, 32]], output shape: [None, 32]\n",
      "Layer name: fc2, layer type: Dense, input shapes: [[None, 32]], output shape: [None, 32]\n",
      "Layer name: relu2, layer type: Activation, input shapes: [[None, 32]], output shape: [None, 32]\n",
      "Layer name: fc3, layer type: Dense, input shapes: [[None, 32]], output shape: [None, 32]\n",
      "Layer name: relu3, layer type: Activation, input shapes: [[None, 32]], output shape: [None, 32]\n",
      "Layer name: output, layer type: Dense, input shapes: [[None, 32]], output shape: [None, 5]\n",
      "Layer name: softmax, layer type: Softmax, input shapes: [[None, 5]], output shape: [None, 5]\n",
      "-----------------------------------\n",
      "Configuration\n",
      "{'Model': {'Precision': {'default': 'fixed<16,6>'}, 'ReuseFactor': 1, 'Strategy': 'Latency', 'BramFactor': 1000000000, 'TraceOutput': False}}\n",
      "-----------------------------------\n",
      "Interpreting Sequential\n",
      "Topology:\n",
      "Layer name: fc1_input, layer type: InputLayer, input shapes: [[None, 16]], output shape: [None, 16]\n",
      "Layer name: fc1, layer type: Dense, input shapes: [[None, 16]], output shape: [None, 32]\n",
      "Layer name: relu1, layer type: Activation, input shapes: [[None, 32]], output shape: [None, 32]\n",
      "Layer name: fc2, layer type: Dense, input shapes: [[None, 32]], output shape: [None, 32]\n",
      "Layer name: relu2, layer type: Activation, input shapes: [[None, 32]], output shape: [None, 32]\n",
      "Layer name: fc3, layer type: Dense, input shapes: [[None, 32]], output shape: [None, 32]\n",
      "Layer name: relu3, layer type: Activation, input shapes: [[None, 32]], output shape: [None, 32]\n",
      "Layer name: output, layer type: Dense, input shapes: [[None, 32]], output shape: [None, 5]\n",
      "Layer name: softmax, layer type: Softmax, input shapes: [[None, 5]], output shape: [None, 5]\n",
      "Creating HLS model\n"
     ]
    }
   ],
   "source": [
    "import hls4ml\n",
    "\n",
    "config = hls4ml.utils.config_from_keras_model(model, granularity='model', backend='oneAPI')\n",
    "print(\"-----------------------------------\")\n",
    "print(\"Configuration\")\n",
    "print(config)\n",
    "print(\"-----------------------------------\")\n",
    "hls_model = hls4ml.converters.convert_from_keras_model(\n",
    "    model, hls_config=config, backend='oneAPI', output_dir='model_1/hls4ml_prj', part='Agilex7'\n",
    ")\n",
    "\n",
    "\n",
    "\n",
    "\n"
   ]
  },
  {
   "cell_type": "code",
   "execution_count": 72,
   "id": "a843f2b3-e11a-43fa-8687-55740982510c",
   "metadata": {},
   "outputs": [
    {
     "name": "stdout",
     "output_type": "stream",
     "text": [
      "Writing HLS project\n",
      "Done\n",
      "/opt/intel/oneapi/2025.0/bin/icpx\n",
      "-- Configuring the design to run on FPGA board Agilex7\n",
      "-- Additional USER_FPGA_FLAGS=-Wno-unused-label\n",
      "-- Additional USER_FLAGS=-Wno-unused-label;-fconstexpr-steps=134217728\n",
      "-- Additional USER_INCLUDE_PATHS=src;src/firmware\n",
      "-- Additional USER_LIB_PATHS=\n",
      "-- Additional USER_LIBS=\n",
      "-- Configuring done (0.0s)\n",
      "-- Generating done (0.0s)\n",
      "-- Build files have been written to: /home/lauri/local/icl/notebooks/model_1/hls4ml_prj/build\n",
      "[ 33%] \u001b[32mBuilding CXX object CMakeFiles/lib.dir/src/firmware/myproject.cpp.o\u001b[0m\n",
      "[ 66%] \u001b[32mBuilding CXX object CMakeFiles/lib.dir/src/myproject_bridge.cpp.o\u001b[0m\n",
      "[100%] \u001b[32m\u001b[1mLinking CXX shared library libmyproject-89e53233.so\u001b[0m\n",
      "[100%] Built target lib\n",
      "Achieved test accuracy of 74.92%\n"
     ]
    }
   ],
   "source": [
    "hls_model.compile()\n",
    "X_test = np.ascontiguousarray(X_test)\n",
    "y_hls = hls_model.predict(X_test)\n",
    "\n",
    "hls_accuracy = np.sum(np.argmax(y_test, axis=1) == np.argmax(y_hls, axis=1))/y_test.shape[0]\n",
    "\n"
   ]
  },
  {
   "cell_type": "code",
   "execution_count": 73,
   "id": "88c1680b-73b5-430b-b463-ee2819ec583f",
   "metadata": {},
   "outputs": [
    {
     "name": "stdout",
     "output_type": "stream",
     "text": [
      "Achieved test accuracy of 74.92%\n"
     ]
    }
   ],
   "source": [
    "print(f\"Achieved test accuracy of {(100 * hls_accuracy):.2f}%\")\n"
   ]
  },
  {
   "cell_type": "markdown",
   "id": "01533ec6-2f11-4f33-90a5-2cdc2989fa01",
   "metadata": {},
   "source": [
    "## Create a report of the FPGA resource usage\n",
    "\n",
    "The report is available in the project directory.\n",
    "\n"
   ]
  },
  {
   "cell_type": "code",
   "execution_count": 74,
   "id": "ee7312fb-44ef-43df-842d-fa2ec6bcffad",
   "metadata": {},
   "outputs": [
    {
     "name": "stdout",
     "output_type": "stream",
     "text": [
      "/opt/intel/oneapi/2025.0/bin/icpx\n",
      "-- Configuring the design to run on FPGA board Agilex7\n",
      "-- Additional USER_FPGA_FLAGS=-Wno-unused-label\n",
      "-- Additional USER_FLAGS=-Wno-unused-label;-fconstexpr-steps=134217728\n",
      "-- Additional USER_INCLUDE_PATHS=src;src/firmware\n",
      "-- Additional USER_LIB_PATHS=\n",
      "-- Additional USER_LIBS=\n",
      "-- Configuring done (0.0s)\n",
      "-- Generating done (0.0s)\n",
      "-- Build files have been written to: /home/lauri/local/icl/notebooks/model_1/hls4ml_prj/build\n",
      "[ 25%] \u001b[34m\u001b[1mTo compile manually:\u001b[0m\n",
      "\u001b[34m\u001b[1m/opt/intel/oneapi/2025.0/bin/icpx -I../src -I../src/firmware -fsycl -fintelfpga -Wall -qactypes -Wno-unused-label -fconstexpr-steps=134217728 -DFPGA_HARDWARE -c ../src/firmware/myproject.cpp -o CMakeFiles/report.dir/src/firmware/myproject.cpp.o\u001b[0m\n",
      "\u001b[34m\u001b[1m/opt/intel/oneapi/2025.0/bin/icpx -I../src -I../src/firmware -fsycl -fintelfpga -Wall -qactypes -Wno-unused-label -fconstexpr-steps=134217728 -DFPGA_HARDWARE -c ../src/myproject_test.cpp -o CMakeFiles/report.dir/src/myproject_test.cpp.o\u001b[0m\n",
      "\u001b[34m\u001b[1m\u001b[0m\n",
      "\u001b[34m\u001b[1mTo link manually:\u001b[0m\n",
      "\u001b[34m\u001b[1m/opt/intel/oneapi/2025.0/bin/icpx -fsycl -fintelfpga -Wno-unused-label -fconstexpr-steps=134217728 -Xshardware -Xstarget=Agilex7 -Wno-unused-label -fsycl-link=early -o myproject.report CMakeFiles/report.dir/src/firmware/myproject.cpp.o CMakeFiles/report.dir/src/myproject_test.cpp.o\u001b[0m\n",
      "[ 25%] Built target displayReportCompileCommands\n",
      "[ 50%] \u001b[32mBuilding CXX object CMakeFiles/report.dir/src/firmware/myproject.cpp.o\u001b[0m\n",
      "[ 75%] \u001b[32mBuilding CXX object CMakeFiles/report.dir/src/myproject_test.cpp.o\u001b[0m\n",
      "[100%] \u001b[32m\u001b[1mLinking CXX executable myproject.report\u001b[0m\n"
     ]
    },
    {
     "name": "stderr",
     "output_type": "stream",
     "text": [
      "icpx: warning: appending to an existing archive 'myproject.report' [-Warchive-append]\n",
      "Segmentation fault (core dumped)\n"
     ]
    },
    {
     "name": "stdout",
     "output_type": "stream",
     "text": [
      "[100%] Built target report\n",
      "['ALUTs ', 'FFs  ', 'RAMs ', 'DSPs ', 'MLABs', 'Frac. DSPs']\n",
      "['974400', '1948800', '7110', '4510', '24360', '0']\n",
      "{'name': 'Total', 'parent': 'estimatedResources', 'classes': ['summary-highlight', 'nohover'], 'data': [126605, 139081, 8, 16, 18, 5], 'data_percent': [12.993124, 7.1367507, 0.11251758, 0.354767174]}\n"
     ]
    }
   ],
   "source": [
    "\n",
    "hls_model.build(build_type='report')\n",
    "with open(\"model_1/hls4ml_prj/build/myproject.report.prj/reports/resources/json/summary.ndjson\", \"r\") as f:\n",
    "    summary = ndjson.load(f)\n",
    "\n",
    "resource_names = list(filter(lambda x: x[\"name\"] == \"Estimated Resource Usage\", summary))[0]['columns'][1:]\n",
    "available = list(filter(lambda x: x[\"name\"] == \"Available\", summary))[0]['data']\n",
    "estimated_resources = list(filter(lambda x: x[\"name\"] == \"Total\", summary))[0]['data']\n",
    "\n",
    "print(resource_names)\n",
    "print(available)\n",
    "print(estimated_resources)"
   ]
  },
  {
   "cell_type": "markdown",
   "id": "2713aeb7-7bc6-4628-9adb-901dbf235a41",
   "metadata": {},
   "source": [
    "<div style=\"background-color:#C2F5DD\">\n",
    "\n",
    "\n",
    "# Exercise\n",
    "\n",
    "See how changing the bitwidth affects the accuracy as well as resource usage.\n",
    "\n",
    "Loop over several bitwidths and plot the accuracy and resource usage as a function of bitwidth.\n",
    "\n",
    "</div>"
   ]
  },
  {
   "cell_type": "markdown",
   "id": "9f8e2c1a-49e4-408e-b3ad-ed56d27767c9",
   "metadata": {},
   "source": [
    "# Quantization Aware Training\n",
    "\n",
    "You can achieve similar performance with significantly lower bitwidths by quantizing during training.\n",
    "\n",
    "This can be achieved with QKeras, which emulates fixed bitwidths during forward pass.\n",
    "\n"
   ]
  },
  {
   "cell_type": "code",
   "execution_count": 95,
   "id": "9d07e096-143c-49e7-ad1b-c96f7d478c2c",
   "metadata": {},
   "outputs": [],
   "source": [
    "import qkeras\n",
    "from qkeras import QDense\n",
    "from qkeras.quantizers import quantized_bits"
   ]
  },
  {
   "cell_type": "code",
   "execution_count": 88,
   "id": "44665eb8-3e32-4ba7-813e-d055938cf6ec",
   "metadata": {},
   "outputs": [
    {
     "data": {
      "text/plain": [
       "<matplotlib.legend.Legend at 0x75d30c6b3f70>"
      ]
     },
     "execution_count": 88,
     "metadata": {},
     "output_type": "execute_result"
    },
    {
     "data": {
      "image/png": "[encoded data removed]",
      "text/plain": [
       "<Figure size 640x480 with 1 Axes>"
      ]
     },
     "metadata": {},
     "output_type": "display_data"
    }
   ],
   "source": [
    "plt.plot(np.linspace(-4,4,1000), quantized_bits(4,1,1,alpha=1)(np.linspace(-4,4,1000)))\n",
    "plt.plot(np.linspace(-4,4,1000), np.linspace(-4,4,1000))\n",
    "\n",
    "plt.legend([\"Quantized\", \"Floating\"])\n"
   ]
  },
  {
   "cell_type": "markdown",
   "id": "5bbda795-2b0a-4938-aa46-d953ae714644",
   "metadata": {},
   "source": [
    "## Creating a quantized model\n",
    "\n",
    "Using the `QDense` layer.\n",
    "\n",
    "Requires setting `kernel_quantizer` and `bias_quantizer`"
   ]
  },
  {
   "cell_type": "code",
   "execution_count": 96,
   "id": "dc143510-e4a5-4af8-b7ea-39dac9eeb67b",
   "metadata": {},
   "outputs": [
    {
     "name": "stdout",
     "output_type": "stream",
     "text": [
      "Model: \"sequential_5\"\n",
      "_________________________________________________________________\n",
      " Layer (type)                Output Shape              Param #   \n",
      "=================================================================\n",
      " fc1 (QDense)                (None, 32)                544       \n",
      "                                                                 \n",
      " relu1 (Activation)          (None, 32)                0         \n",
      "                                                                 \n",
      " fc2 (QDense)                (None, 32)                1056      \n",
      "                                                                 \n",
      " relu2 (Activation)          (None, 32)                0         \n",
      "                                                                 \n",
      " fc3 (QDense)                (None, 32)                1056      \n",
      "                                                                 \n",
      " relu3 (Activation)          (None, 32)                0         \n",
      "                                                                 \n",
      " output (QDense)             (None, 5)                 165       \n",
      "                                                                 \n",
      " softmax (Activation)        (None, 5)                 0         \n",
      "                                                                 \n",
      "=================================================================\n",
      "Total params: 2821 (11.02 KB)\n",
      "Trainable params: 2821 (11.02 KB)\n",
      "Non-trainable params: 0 (0.00 Byte)\n",
      "_________________________________________________________________\n"
     ]
    }
   ],
   "source": [
    "qmodel = Sequential()\n",
    "qmodel.add(QDense(32, input_shape=(16,),\n",
    "                  name='fc1',\n",
    "                  kernel_quantizer = quantized_bits(4,1,1,alpha=1),\n",
    "                  bias_quantizer = quantized_bits(4,1,1,alpha=1),\n",
    "                  kernel_initializer='lecun_uniform', kernel_regularizer=l1(0.0001)))\n",
    "qmodel.add(Activation(activation='relu', name='relu1'))\n",
    "qmodel.add(QDense(32, \n",
    "                  name='fc2', \n",
    "                  kernel_quantizer = quantized_bits(4,1,1,alpha=1),\n",
    "                  bias_quantizer = quantized_bits(4,1,1,alpha=1),                  \n",
    "                  kernel_initializer='lecun_uniform', kernel_regularizer=l1(0.0001)))\n",
    "qmodel.add(Activation(activation='relu', name='relu2'))\n",
    "qmodel.add(QDense(32, \n",
    "                  name='fc3', \n",
    "                  kernel_quantizer = quantized_bits(4,1,1,alpha=1),\n",
    "                  bias_quantizer = quantized_bits(4,1,1,alpha=1),                  \n",
    "                  kernel_initializer='lecun_uniform', kernel_regularizer=l1(0.0001)))\n",
    "qmodel.add(Activation(activation='relu', name='relu3'))\n",
    "qmodel.add(QDense(5, \n",
    "                  name='output', \n",
    "                  kernel_quantizer = quantized_bits(4,1,1,alpha=1),\n",
    "                  bias_quantizer = quantized_bits(4,1,1,alpha=1),                  \n",
    "                  kernel_initializer='lecun_uniform', kernel_regularizer=l1(0.0001)))\n",
    "qmodel.add(Activation(activation='softmax', name='softmax'))\n",
    "\n",
    "qmodel.summary()"
   ]
  },
  {
   "cell_type": "code",
   "execution_count": 97,
   "id": "b8a9ec3c-ccd7-46fa-8ebc-6da6241f7ad0",
   "metadata": {},
   "outputs": [
    {
     "name": "stdout",
     "output_type": "stream",
     "text": [
      "Epoch 1/2\n",
      "3891/3891 [==============================] - 15s 4ms/step - loss: 0.8152 - accuracy: 0.7306 - val_loss: 0.7713 - val_accuracy: 0.7454\n",
      "Epoch 2/2\n",
      "3891/3891 [==============================] - 15s 4ms/step - loss: 0.7935 - accuracy: 0.7355 - val_loss: 0.7687 - val_accuracy: 0.7445\n"
     ]
    },
    {
     "data": {
      "text/plain": [
       "<keras.src.callbacks.History at 0x75d3191b3d90>"
      ]
     },
     "execution_count": 97,
     "metadata": {},
     "output_type": "execute_result"
    }
   ],
   "source": [
    "\n",
    "adam = Adam(learning_rate=0.0001)\n",
    "qmodel.compile(optimizer=adam, loss=['categorical_crossentropy'], metrics=['accuracy'])\n",
    "\n",
    "qmodel.set_weights(model.get_weights())\n",
    "\n",
    "qmodel.fit(\n",
    "    X_train_val,\n",
    "    y_train_val,\n",
    "    batch_size=128,\n",
    "    epochs=2,\n",
    "    validation_split=0.25,\n",
    "    shuffle=True,\n",
    ")\n"
   ]
  },
  {
   "cell_type": "code",
   "execution_count": 98,
   "id": "6be343af-7593-474e-b0b8-3092bcf79b97",
   "metadata": {},
   "outputs": [
    {
     "name": "stdout",
     "output_type": "stream",
     "text": [
      "Interpreting Sequential\n",
      "Topology:\n",
      "Layer name: fc1_input, layer type: InputLayer, input shapes: [[None, 16]], output shape: [None, 16]\n",
      "Layer name: fc1, layer type: QDense, input shapes: [[None, 16]], output shape: [None, 32]\n",
      "Layer name: relu1, layer type: Activation, input shapes: [[None, 32]], output shape: [None, 32]\n",
      "Layer name: fc2, layer type: QDense, input shapes: [[None, 32]], output shape: [None, 32]\n",
      "Layer name: relu2, layer type: Activation, input shapes: [[None, 32]], output shape: [None, 32]\n",
      "Layer name: fc3, layer type: QDense, input shapes: [[None, 32]], output shape: [None, 32]\n",
      "Layer name: relu3, layer type: Activation, input shapes: [[None, 32]], output shape: [None, 32]\n",
      "Layer name: output, layer type: QDense, input shapes: [[None, 32]], output shape: [None, 5]\n",
      "Layer name: softmax, layer type: Softmax, input shapes: [[None, 5]], output shape: [None, 5]\n",
      "-----------------------------------\n",
      "Configuration\n",
      "{'Model': {'Precision': {'default': 'fixed<16,6>'}, 'ReuseFactor': 1, 'Strategy': 'Latency', 'BramFactor': 1000000000, 'TraceOutput': False}, 'LayerName': {'fc1_input': {'Trace': False, 'Precision': {'result': 'auto'}}, 'fc1': {'Trace': False, 'Precision': {'result': 'auto', 'weight': 'fixed<4,2,TRN,WRAP,0>', 'bias': 'fixed<4,2,TRN,WRAP,0>', 'accum': 'auto'}, 'ReuseFactor': 1}, 'fc1_linear': {'Trace': False, 'Precision': {'result': 'auto', 'table': 'fixed<18,8,TRN,WRAP,0>'}, 'ReuseFactor': 1, 'TableSize': 1024}, 'relu1': {'Trace': False, 'Precision': {'result': 'auto', 'table': 'fixed<18,8,TRN,WRAP,0>'}, 'ReuseFactor': 1, 'TableSize': 1024}, 'fc2': {'Trace': False, 'Precision': {'result': 'auto', 'weight': 'fixed<4,2,TRN,WRAP,0>', 'bias': 'fixed<4,2,TRN,WRAP,0>', 'accum': 'auto'}, 'ReuseFactor': 1}, 'fc2_linear': {'Trace': False, 'Precision': {'result': 'auto', 'table': 'fixed<18,8,TRN,WRAP,0>'}, 'ReuseFactor': 1, 'TableSize': 1024}, 'relu2': {'Trace': False, 'Precision': {'result': 'auto', 'table': 'fixed<18,8,TRN,WRAP,0>'}, 'ReuseFactor': 1, 'TableSize': 1024}, 'fc3': {'Trace': False, 'Precision': {'result': 'auto', 'weight': 'fixed<4,2,TRN,WRAP,0>', 'bias': 'fixed<4,2,TRN,WRAP,0>', 'accum': 'auto'}, 'ReuseFactor': 1}, 'fc3_linear': {'Trace': False, 'Precision': {'result': 'auto', 'table': 'fixed<18,8,TRN,WRAP,0>'}, 'ReuseFactor': 1, 'TableSize': 1024}, 'relu3': {'Trace': False, 'Precision': {'result': 'auto', 'table': 'fixed<18,8,TRN,WRAP,0>'}, 'ReuseFactor': 1, 'TableSize': 1024}, 'output': {'Trace': False, 'Precision': {'result': 'auto', 'weight': 'fixed<4,2,TRN,WRAP,0>', 'bias': 'fixed<4,2,TRN,WRAP,0>', 'accum': 'auto'}, 'ReuseFactor': 1}, 'output_linear': {'Trace': False, 'Precision': {'result': 'auto', 'table': 'fixed<18,8,TRN,WRAP,0>'}, 'ReuseFactor': 1, 'TableSize': 1024}, 'softmax': {'Trace': False, 'Precision': {'result': 'auto', 'table': 'fixed<18,8,TRN,WRAP,0>', 'exp_table': 'fixed<18,8,RND,SAT,0>', 'inv_table': 'fixed<18,8,RND,SAT,0>'}, 'ReuseFactor': 1, 'TableSize': 1024, 'Implementation': 'stable', 'Skip': False}}}\n",
      "-----------------------------------\n",
      "Interpreting Sequential\n",
      "Topology:\n",
      "Layer name: fc1_input, layer type: InputLayer, input shapes: [[None, 16]], output shape: [None, 16]\n",
      "Layer name: fc1, layer type: QDense, input shapes: [[None, 16]], output shape: [None, 32]\n",
      "Layer name: relu1, layer type: Activation, input shapes: [[None, 32]], output shape: [None, 32]\n",
      "Layer name: fc2, layer type: QDense, input shapes: [[None, 32]], output shape: [None, 32]\n",
      "Layer name: relu2, layer type: Activation, input shapes: [[None, 32]], output shape: [None, 32]\n",
      "Layer name: fc3, layer type: QDense, input shapes: [[None, 32]], output shape: [None, 32]\n",
      "Layer name: relu3, layer type: Activation, input shapes: [[None, 32]], output shape: [None, 32]\n",
      "Layer name: output, layer type: QDense, input shapes: [[None, 32]], output shape: [None, 5]\n",
      "Layer name: softmax, layer type: Softmax, input shapes: [[None, 5]], output shape: [None, 5]\n",
      "Creating HLS model\n"
     ]
    },
    {
     "name": "stderr",
     "output_type": "stream",
     "text": [
      "/home/lauri/miniconda3/envs/oneapi-env/lib/python3.10/site-packages/keras/src/constraints.py:365: UserWarning: The `keras.constraints.serialize()` API should only be used for objects of type `keras.constraints.Constraint`. Found an instance of type <class 'qkeras.quantizers.quantized_bits'>, which may lead to improper serialization.\n",
      "  warnings.warn(\n"
     ]
    }
   ],
   "source": [
    "import hls4ml\n",
    "\n",
    "config = hls4ml.utils.config_from_keras_model(qmodel, granularity='name', backend='oneAPI')\n",
    "print(\"-----------------------------------\")\n",
    "print(\"Configuration\")\n",
    "print(config)\n",
    "print(\"-----------------------------------\")\n",
    "hls_model = hls4ml.converters.convert_from_keras_model(\n",
    "    qmodel, hls_config=config, backend='oneAPI', output_dir='model_2/hls4ml_prj', part='Agilex7'\n",
    ")\n",
    "\n",
    "\n",
    "\n",
    "\n"
   ]
  },
  {
   "cell_type": "code",
   "execution_count": 99,
   "id": "5a6bd5de-df16-456c-a176-02ae17944016",
   "metadata": {},
   "outputs": [
    {
     "name": "stdout",
     "output_type": "stream",
     "text": [
      "Writing HLS project\n",
      "Done\n",
      "/opt/intel/oneapi/2025.0/bin/icpx\n",
      "-- The CXX compiler identification is IntelLLVM 2025.0.4\n",
      "-- Detecting CXX compiler ABI info\n",
      "-- Detecting CXX compiler ABI info - done\n",
      "-- Check for working CXX compiler: /opt/intel/oneapi/2025.0/bin/icpx - skipped\n",
      "-- Detecting CXX compile features\n",
      "-- Detecting CXX compile features - done\n",
      "-- Configuring the design to run on FPGA board Agilex7\n",
      "-- Additional USER_FPGA_FLAGS=-Wno-unused-label\n",
      "-- Additional USER_FLAGS=-Wno-unused-label;-fconstexpr-steps=134217728\n",
      "-- Additional USER_INCLUDE_PATHS=src;src/firmware\n",
      "-- Additional USER_LIB_PATHS=\n",
      "-- Additional USER_LIBS=\n",
      "-- Configuring done (0.6s)\n",
      "-- Generating done (0.0s)\n",
      "-- Build files have been written to: /home/lauri/local/icl/notebooks/model_2/hls4ml_prj/build\n",
      "[ 33%] \u001b[32mBuilding CXX object CMakeFiles/lib.dir/src/firmware/myproject.cpp.o\u001b[0m\n",
      "[ 66%] \u001b[32mBuilding CXX object CMakeFiles/lib.dir/src/myproject_bridge.cpp.o\u001b[0m\n",
      "[100%] \u001b[32m\u001b[1mLinking CXX shared library libmyproject-974ccfb0.so\u001b[0m\n",
      "[100%] Built target lib\n"
     ]
    }
   ],
   "source": [
    "hls_model.compile()\n",
    "X_test = np.ascontiguousarray(X_test)\n",
    "y_hls = hls_model.predict(X_test)\n",
    "\n",
    "hls_accuracy = np.sum(np.argmax(y_test, axis=1) == np.argmax(y_hls, axis=1))/y_test.shape[0]\n",
    "\n"
   ]
  },
  {
   "cell_type": "code",
   "execution_count": 100,
   "id": "a2266dc0-9132-45d5-8100-3fa2f4cba4cd",
   "metadata": {},
   "outputs": [
    {
     "name": "stdout",
     "output_type": "stream",
     "text": [
      "Achieved test accuracy of 74.31%\n"
     ]
    }
   ],
   "source": [
    "print(f\"Achieved test accuracy of {(100 * hls_accuracy):.2f}%\")\n"
   ]
  },
  {
   "cell_type": "code",
   "execution_count": 108,
   "id": "54fcca54-e397-4d9c-8b3a-57b353abfd24",
   "metadata": {},
   "outputs": [
    {
     "name": "stdout",
     "output_type": "stream",
     "text": [
      "/opt/intel/oneapi/2025.0/bin/icpx\n",
      "-- Configuring the design to run on FPGA board Agilex7\n",
      "-- Additional USER_FPGA_FLAGS=-Wno-unused-label\n",
      "-- Additional USER_FLAGS=-Wno-unused-label;-fconstexpr-steps=134217728\n",
      "-- Additional USER_INCLUDE_PATHS=src;src/firmware\n",
      "-- Additional USER_LIB_PATHS=\n",
      "-- Additional USER_LIBS=\n",
      "-- Configuring done (0.0s)\n",
      "-- Generating done (0.0s)\n",
      "-- Build files have been written to: /home/lauri/local/icl/notebooks/model_2/hls4ml_prj/build\n",
      "[ 25%] \u001b[34m\u001b[1mTo compile manually:\u001b[0m\n",
      "\u001b[34m\u001b[1m/opt/intel/oneapi/2025.0/bin/icpx -I../src -I../src/firmware -fsycl -fintelfpga -Wall -qactypes -Wno-unused-label -fconstexpr-steps=134217728 -DFPGA_HARDWARE -c ../src/firmware/myproject.cpp -o CMakeFiles/report.dir/src/firmware/myproject.cpp.o\u001b[0m\n",
      "\u001b[34m\u001b[1m/opt/intel/oneapi/2025.0/bin/icpx -I../src -I../src/firmware -fsycl -fintelfpga -Wall -qactypes -Wno-unused-label -fconstexpr-steps=134217728 -DFPGA_HARDWARE -c ../src/myproject_test.cpp -o CMakeFiles/report.dir/src/myproject_test.cpp.o\u001b[0m\n",
      "\u001b[34m\u001b[1m\u001b[0m\n",
      "\u001b[34m\u001b[1mTo link manually:\u001b[0m\n",
      "\u001b[34m\u001b[1m/opt/intel/oneapi/2025.0/bin/icpx -fsycl -fintelfpga -Wno-unused-label -fconstexpr-steps=134217728 -Xshardware -Xstarget=Agilex7 -Wno-unused-label -fsycl-link=early -o myproject.report CMakeFiles/report.dir/src/firmware/myproject.cpp.o CMakeFiles/report.dir/src/myproject_test.cpp.o\u001b[0m\n",
      "[ 25%] Built target displayReportCompileCommands\n",
      "[ 50%] \u001b[32mBuilding CXX object CMakeFiles/report.dir/src/firmware/myproject.cpp.o\u001b[0m\n",
      "[ 75%] \u001b[32mBuilding CXX object CMakeFiles/report.dir/src/myproject_test.cpp.o\u001b[0m\n",
      "[100%] \u001b[32m\u001b[1mLinking CXX executable myproject.report\u001b[0m\n"
     ]
    },
    {
     "name": "stderr",
     "output_type": "stream",
     "text": [
      "Segmentation fault (core dumped)\n"
     ]
    },
    {
     "name": "stdout",
     "output_type": "stream",
     "text": [
      "[100%] Built target report\n",
      "['ALUTs ', 'FFs  ', 'RAMs ', 'DSPs ', 'MLABs', 'Frac. DSPs']\n",
      "['974400', '1948800', '7110', '4510', '24360', '0']\n",
      "[34657, 38922, 8, 0, 23, 5]\n"
     ]
    }
   ],
   "source": [
    "\n",
    "hls_model.build(build_type='report')\n",
    "with open(\"model_2/hls4ml_prj/build/myproject.report.prj/reports/resources/json/summary.ndjson\", \"r\") as f:\n",
    "    summary = ndjson.load(f)\n",
    "\n",
    "resource_names = list(filter(lambda x: x[\"name\"] == \"Estimated Resource Usage\", summary))[0]['columns'][1:]\n",
    "available = list(filter(lambda x: x[\"name\"] == \"Available\", summary))[0]['data']\n",
    "estimated_resources = list(filter(lambda x: x[\"name\"] == \"Total\", summary))[0]['data']\n",
    "\n",
    "print(resource_names)\n",
    "print(available)\n",
    "print(estimated_resources)"
   ]
  },
  {
   "cell_type": "markdown",
   "id": "87ff4d52-a7dc-4ace-9321-27a08833b1fe",
   "metadata": {},
   "source": [
    "<div style=\"background-color:#C2F5DD\">\n",
    "\n",
    "\n",
    "# Exercise\n",
    "\n",
    "See how low bitwidth can still have the same accuracy as the baseline model.\n",
    "\n",
    "Loop over several bitwidths and plot the accuracy and resource usage as a function of bitwidth.\n",
    "\n",
    "</div>"
   ]
  },
  {
   "cell_type": "code",
   "execution_count": null,
   "id": "d21b45f2-55e6-461e-94d1-da1baa2ae801",
   "metadata": {},
   "outputs": [],
   "source": []
  },
  {
   "cell_type": "markdown",
   "id": "6bcec4df-060c-4650-9f70-e9f3e6e23dca",
   "metadata": {},
   "source": [
    "# Pruning\n",
    "\n",
    "Weight matrices in NNs can be huge, but not every weight contributes equally to the model performance.\n",
    "\n",
    "Low magnitude weights can be pruned out with very small impact to the performance.\n",
    "\n",
    "On FPGAs the weight matrices are known at compile time. Weights that are zero can be omitted by the compiler, which reduces resource usage.\n",
    "\n",
    "To get sparse weight matrices regularization can be used to reduce weight magnitude and pruning can be then schedules to incrementaly remove and mask low magnitude weights.\n"
   ]
  },
  {
   "cell_type": "code",
   "execution_count": 106,
   "id": "784e51db-d8f4-454c-9066-0e0d068c7dfd",
   "metadata": {},
   "outputs": [],
   "source": [
    "from tensorflow_model_optimization.python.core.sparsity.keras import prune, pruning_callbacks, pruning_schedule\n",
    "from tensorflow_model_optimization.sparsity.keras import strip_pruning\n",
    "\n",
    "pruning_params = {\"pruning_schedule\": pruning_schedule.ConstantSparsity(0.75, begin_step=100, frequency=100)}\n",
    "model = prune.prune_low_magnitude(model, **pruning_params)"
   ]
  },
  {
   "cell_type": "code",
   "execution_count": 107,
   "id": "1110a7c7-af0b-4a97-82fe-707b0fea3e5f",
   "metadata": {},
   "outputs": [
    {
     "name": "stderr",
     "output_type": "stream",
     "text": [
      "WARNING:absl:`lr` is deprecated in Keras optimizer, please use `learning_rate` or use the legacy optimizer, e.g.,tf.keras.optimizers.legacy.Adam.\n"
     ]
    },
    {
     "name": "stdout",
     "output_type": "stream",
     "text": [
      "Epoch 1/5\n",
      "3891/3891 [==============================] - 12s 3ms/step - loss: 0.7687 - accuracy: 0.7402 - val_loss: 0.7458 - val_accuracy: 0.7475\n",
      "Epoch 2/5\n",
      "3891/3891 [==============================] - 12s 3ms/step - loss: 0.7353 - accuracy: 0.7494 - val_loss: 0.7324 - val_accuracy: 0.7505\n",
      "Epoch 3/5\n",
      "3891/3891 [==============================] - 11s 3ms/step - loss: 0.7242 - accuracy: 0.7522 - val_loss: 0.7234 - val_accuracy: 0.7526\n",
      "Epoch 4/5\n",
      "3891/3891 [==============================] - 13s 3ms/step - loss: 0.7148 - accuracy: 0.7547 - val_loss: 0.7151 - val_accuracy: 0.7551\n",
      "Epoch 5/5\n",
      "3891/3891 [==============================] - 16s 4ms/step - loss: 0.7089 - accuracy: 0.7563 - val_loss: 0.7101 - val_accuracy: 0.7555\n"
     ]
    },
    {
     "data": {
      "text/plain": [
       "<keras.src.callbacks.History at 0x75d2e8802140>"
      ]
     },
     "execution_count": 107,
     "metadata": {},
     "output_type": "execute_result"
    }
   ],
   "source": [
    "adam = Adam(learning_rate=0.0001)\n",
    "model.compile(optimizer=adam, loss=['categorical_crossentropy'], metrics=['accuracy'])\n",
    "\n",
    "model.fit(\n",
    "    X_train_val,\n",
    "    y_train_val,\n",
    "    batch_size=128,\n",
    "    epochs=5,\n",
    "    validation_split=0.25,\n",
    "    shuffle=True,\n",
    "    callbacks=[pruning_callbacks.UpdatePruningStep()],\n",
    ")\n"
   ]
  },
  {
   "cell_type": "code",
   "execution_count": 112,
   "id": "cc36376a-4d7a-4aed-a105-701bf8e57c56",
   "metadata": {},
   "outputs": [],
   "source": [
    "# Strip pruning\n",
    "\n",
    "model = strip_pruning(model)"
   ]
  },
  {
   "cell_type": "code",
   "execution_count": 135,
   "id": "0dcd31ad-d200-4d73-9f7e-d1b1de2a941b",
   "metadata": {},
   "outputs": [
    {
     "name": "stdout",
     "output_type": "stream",
     "text": [
      "75.0% sparsity for layer fc1\n",
      "0.0% sparsity for layer relu1\n",
      "75.0% sparsity for layer fc2\n",
      "0.0% sparsity for layer relu2\n",
      "75.0% sparsity for layer fc3\n",
      "0.0% sparsity for layer relu3\n",
      "75.0% sparsity for layer output\n",
      "0.0% sparsity for layer softmax\n"
     ]
    }
   ],
   "source": [
    "for i, l in zip(model.get_weights(), model.layers):\n",
    "    print(f\"{np.sum(i.flatten()==0)/i.flatten().shape[0]*100:.1f}% sparsity for layer {l.name}\")"
   ]
  },
  {
   "cell_type": "code",
   "execution_count": 128,
   "id": "f345d5cc-55d8-4a26-b93e-730e7680c155",
   "metadata": {},
   "outputs": [
    {
     "name": "stdout",
     "output_type": "stream",
     "text": [
      "Interpreting Sequential\n",
      "Topology:\n",
      "Layer name: fc1_input, layer type: InputLayer, input shapes: [[None, 16]], output shape: [None, 16]\n",
      "Layer name: fc1, layer type: Dense, input shapes: [[None, 16]], output shape: [None, 32]\n",
      "Layer name: relu1, layer type: Activation, input shapes: [[None, 32]], output shape: [None, 32]\n",
      "Layer name: fc2, layer type: Dense, input shapes: [[None, 32]], output shape: [None, 32]\n",
      "Layer name: relu2, layer type: Activation, input shapes: [[None, 32]], output shape: [None, 32]\n",
      "Layer name: fc3, layer type: Dense, input shapes: [[None, 32]], output shape: [None, 32]\n",
      "Layer name: relu3, layer type: Activation, input shapes: [[None, 32]], output shape: [None, 32]\n",
      "Layer name: output, layer type: Dense, input shapes: [[None, 32]], output shape: [None, 5]\n",
      "Layer name: softmax, layer type: Softmax, input shapes: [[None, 5]], output shape: [None, 5]\n",
      "-----------------------------------\n",
      "Configuration\n",
      "{'Model': {'Precision': {'default': 'fixed<16,6>'}, 'ReuseFactor': 1, 'Strategy': 'Latency', 'BramFactor': 1000000000, 'TraceOutput': False}}\n",
      "-----------------------------------\n",
      "Interpreting Sequential\n",
      "Topology:\n",
      "Layer name: fc1_input, layer type: InputLayer, input shapes: [[None, 16]], output shape: [None, 16]\n",
      "Layer name: fc1, layer type: Dense, input shapes: [[None, 16]], output shape: [None, 32]\n",
      "Layer name: relu1, layer type: Activation, input shapes: [[None, 32]], output shape: [None, 32]\n",
      "Layer name: fc2, layer type: Dense, input shapes: [[None, 32]], output shape: [None, 32]\n",
      "Layer name: relu2, layer type: Activation, input shapes: [[None, 32]], output shape: [None, 32]\n",
      "Layer name: fc3, layer type: Dense, input shapes: [[None, 32]], output shape: [None, 32]\n",
      "Layer name: relu3, layer type: Activation, input shapes: [[None, 32]], output shape: [None, 32]\n",
      "Layer name: output, layer type: Dense, input shapes: [[None, 32]], output shape: [None, 5]\n",
      "Layer name: softmax, layer type: Softmax, input shapes: [[None, 5]], output shape: [None, 5]\n",
      "Creating HLS model\n"
     ]
    }
   ],
   "source": [
    "import hls4ml\n",
    "\n",
    "config = hls4ml.utils.config_from_keras_model(model, granularity='model', backend='oneAPI')\n",
    "print(\"-----------------------------------\")\n",
    "print(\"Configuration\")\n",
    "print(config)\n",
    "print(\"-----------------------------------\")\n",
    "hls_model = hls4ml.converters.convert_from_keras_model(\n",
    "    model, hls_config=config, backend='oneAPI', output_dir='model_3/hls4ml_prj', part='Agilex7'\n",
    ")\n",
    "\n",
    "\n",
    "\n",
    "\n"
   ]
  },
  {
   "cell_type": "code",
   "execution_count": 129,
   "id": "3a173d38-2d47-451a-bd81-a363ce15be3e",
   "metadata": {},
   "outputs": [
    {
     "name": "stdout",
     "output_type": "stream",
     "text": [
      "Writing HLS project\n",
      "Done\n",
      "/opt/intel/oneapi/2025.0/bin/icpx\n",
      "-- Configuring the design to run on FPGA board Agilex7\n",
      "-- Additional USER_FPGA_FLAGS=-Wno-unused-label\n",
      "-- Additional USER_FLAGS=-Wno-unused-label;-fconstexpr-steps=134217728\n",
      "-- Additional USER_INCLUDE_PATHS=src;src/firmware\n",
      "-- Additional USER_LIB_PATHS=\n",
      "-- Additional USER_LIBS=\n",
      "-- Configuring done (0.0s)\n",
      "-- Generating done (0.0s)\n",
      "-- Build files have been written to: /home/lauri/local/icl/notebooks/model_1/hls4ml_prj/build\n",
      "[ 33%] \u001b[32mBuilding CXX object CMakeFiles/lib.dir/src/firmware/myproject.cpp.o\u001b[0m\n",
      "[ 66%] \u001b[32mBuilding CXX object CMakeFiles/lib.dir/src/myproject_bridge.cpp.o\u001b[0m\n",
      "[100%] \u001b[32m\u001b[1mLinking CXX shared library libmyproject-f833531a.so\u001b[0m\n",
      "[100%] Built target lib\n"
     ]
    }
   ],
   "source": [
    "hls_model.compile()\n",
    "X_test = np.ascontiguousarray(X_test)\n",
    "y_hls = hls_model.predict(X_test)\n",
    "\n",
    "hls_accuracy = np.sum(np.argmax(y_test, axis=1) == np.argmax(y_hls, axis=1))/y_test.shape[0]\n",
    "\n"
   ]
  },
  {
   "cell_type": "code",
   "execution_count": 130,
   "id": "584c6195-471f-49ec-bfd3-c9a73ab75bc9",
   "metadata": {},
   "outputs": [
    {
     "name": "stdout",
     "output_type": "stream",
     "text": [
      "Achieved test accuracy of 75.50%\n"
     ]
    }
   ],
   "source": [
    "print(f\"Achieved test accuracy of {(100 * hls_accuracy):.2f}%\")\n"
   ]
  },
  {
   "cell_type": "code",
   "execution_count": 131,
   "id": "f9923bc6-9fc0-498a-94c3-75a971a71d09",
   "metadata": {},
   "outputs": [
    {
     "name": "stdout",
     "output_type": "stream",
     "text": [
      "/opt/intel/oneapi/2025.0/bin/icpx\n",
      "-- Configuring the design to run on FPGA board Agilex7\n",
      "-- Additional USER_FPGA_FLAGS=-Wno-unused-label\n",
      "-- Additional USER_FLAGS=-Wno-unused-label;-fconstexpr-steps=134217728\n",
      "-- Additional USER_INCLUDE_PATHS=src;src/firmware\n",
      "-- Additional USER_LIB_PATHS=\n",
      "-- Additional USER_LIBS=\n",
      "-- Configuring done (0.0s)\n",
      "-- Generating done (0.0s)\n",
      "-- Build files have been written to: /home/lauri/local/icl/notebooks/model_1/hls4ml_prj/build\n",
      "[ 25%] \u001b[34m\u001b[1mTo compile manually:\u001b[0m\n",
      "\u001b[34m\u001b[1m/opt/intel/oneapi/2025.0/bin/icpx -I../src -I../src/firmware -fsycl -fintelfpga -Wall -qactypes -Wno-unused-label -fconstexpr-steps=134217728 -DFPGA_HARDWARE -c ../src/firmware/myproject.cpp -o CMakeFiles/report.dir/src/firmware/myproject.cpp.o\u001b[0m\n",
      "\u001b[34m\u001b[1m/opt/intel/oneapi/2025.0/bin/icpx -I../src -I../src/firmware -fsycl -fintelfpga -Wall -qactypes -Wno-unused-label -fconstexpr-steps=134217728 -DFPGA_HARDWARE -c ../src/myproject_test.cpp -o CMakeFiles/report.dir/src/myproject_test.cpp.o\u001b[0m\n",
      "\u001b[34m\u001b[1m\u001b[0m\n",
      "\u001b[34m\u001b[1mTo link manually:\u001b[0m\n",
      "\u001b[34m\u001b[1m/opt/intel/oneapi/2025.0/bin/icpx -fsycl -fintelfpga -Wno-unused-label -fconstexpr-steps=134217728 -Xshardware -Xstarget=Agilex7 -Wno-unused-label -fsycl-link=early -o myproject.report CMakeFiles/report.dir/src/firmware/myproject.cpp.o CMakeFiles/report.dir/src/myproject_test.cpp.o\u001b[0m\n",
      "[ 25%] Built target displayReportCompileCommands\n",
      "[ 50%] \u001b[32mBuilding CXX object CMakeFiles/report.dir/src/firmware/myproject.cpp.o\u001b[0m\n",
      "[ 75%] \u001b[32mBuilding CXX object CMakeFiles/report.dir/src/myproject_test.cpp.o\u001b[0m\n",
      "[100%] \u001b[32m\u001b[1mLinking CXX executable myproject.report\u001b[0m\n"
     ]
    },
    {
     "name": "stderr",
     "output_type": "stream",
     "text": [
      "icpx: warning: appending to an existing archive 'myproject.report' [-Warchive-append]\n",
      "Segmentation fault (core dumped)\n"
     ]
    },
    {
     "name": "stdout",
     "output_type": "stream",
     "text": [
      "[100%] Built target report\n",
      "['ALUTs ', 'FFs  ', 'RAMs ', 'DSPs ', 'MLABs', 'Frac. DSPs']\n",
      "['974400', '1948800', '7110', '4510', '24360', '0']\n",
      "[42837, 47838, 8, 5, 19, 5]\n"
     ]
    }
   ],
   "source": [
    "\n",
    "hls_model.build(build_type='report')\n",
    "with open(\"model_3/hls4ml_prj/build/myproject.report.prj/reports/resources/json/summary.ndjson\", \"r\") as f:\n",
    "    summary = ndjson.load(f)\n",
    "\n",
    "resource_names = list(filter(lambda x: x[\"name\"] == \"Estimated Resource Usage\", summary))[0]['columns'][1:]\n",
    "available = list(filter(lambda x: x[\"name\"] == \"Available\", summary))[0]['data']\n",
    "estimated_resources = list(filter(lambda x: x[\"name\"] == \"Total\", summary))[0]['data']\n",
    "\n",
    "print(resource_names)\n",
    "print(available)\n",
    "print(estimated_resources)"
   ]
  },
  {
   "cell_type": "markdown",
   "id": "91142512-be9a-45e6-95f3-6d0f82f3f89a",
   "metadata": {},
   "source": [
    "<div style=\"background-color:#C2F5DD\">\n",
    "\n",
    "\n",
    "# Exercise\n",
    "\n",
    "Train models with different sparsity. Plot the performance and resource usage as function of model sparsity.\n",
    "\n",
    "How large are the savings in resource usage in comparison to the baseline model before accuracy drops?\n",
    "\n",
    "</div>"
   ]
  },
  {
   "cell_type": "markdown",
   "id": "301f3195-7eff-4594-8b50-5d146bb5b636",
   "metadata": {},
   "source": [
    "<div style=\"background-color:#C2F5DD\">\n",
    "\n",
    "\n",
    "# Exercise\n",
    "\n",
    "Train and synthesize model that uses both quantization aware training and pruning that achieves the same accuracy as the baseline model.\n",
    "\n",
    "How large are the savings in resource usage in comparison to the baseline model before accuracy drops?\n",
    "\n",
    "</div>"
   ]
  }
 ],
 "metadata": {
  "kernelspec": {
   "display_name": "Python 3 (ipykernel)",
   "language": "python",
   "name": "python3"
  },
  "language_info": {
   "codemirror_mode": {
    "name": "ipython",
    "version": 3
   },
   "file_extension": ".py",
   "mimetype": "text/x-python",
   "name": "python",
   "nbconvert_exporter": "python",
   "pygments_lexer": "ipython3",
   "version": "3.10.17"
  }
 },
 "nbformat": 4,
 "nbformat_minor": 5
}
